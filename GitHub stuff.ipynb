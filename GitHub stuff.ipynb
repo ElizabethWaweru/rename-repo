{
 "cells": [
  {
   "cell_type": "code",
   "execution_count": 1,
   "metadata": {},
   "outputs": [
    {
     "data": {
      "text/plain": [
       "10"
      ]
     },
     "execution_count": 1,
     "metadata": {},
     "output_type": "execute_result"
    }
   ],
   "source": [
    "import numpy as np\n",
    "a=-10\n",
    "np.abs(a)"
   ]
  },
  {
   "cell_type": "code",
   "execution_count": 6,
   "metadata": {},
   "outputs": [
    {
     "name": "stdout",
     "output_type": "stream",
     "text": [
      "None\n"
     ]
    }
   ],
   "source": [
    "def abs(x):\n",
    "    if x <0:\n",
    "        x=-x\n",
    "print (abs(-10))"
   ]
  },
  {
   "cell_type": "code",
   "execution_count": 1,
   "metadata": {},
   "outputs": [
    {
     "name": "stdout",
     "output_type": "stream",
     "text": [
      "{'Grapes', 'Peaches', 'Apples', 'Mangoes', 'Bananas'}\n"
     ]
    }
   ],
   "source": [
    "a = {\"Apples\",\"Bananas\",\"Peaches\",\"Grapes\",\"Bananas\",\"Mangoes\",\"Bananas\"}\n",
    "# or\n",
    "a = set([\"Apples\",\"Bananas\",\"Peaches\",\"Grapes\",\"Bananas\",\"Mangoes\",\"Bananas\"])\n",
    "print (a)"
   ]
  },
  {
   "cell_type": "code",
   "execution_count": 2,
   "metadata": {},
   "outputs": [
    {
     "name": "stdout",
     "output_type": "stream",
     "text": [
      "<class 'set'>\n",
      "Grapes\n",
      "Peaches\n",
      "Apples\n",
      "Mangoes\n",
      "Bananas\n"
     ]
    }
   ],
   "source": [
    "print(type(a))\n",
    "for x in a:\n",
    "    print(x)"
   ]
  },
  {
   "cell_type": "code",
   "execution_count": 3,
   "metadata": {},
   "outputs": [
    {
     "data": {
      "text/plain": [
       "True"
      ]
     },
     "execution_count": 3,
     "metadata": {},
     "output_type": "execute_result"
    }
   ],
   "source": [
    "A={1,2,3,4,5,6,7,8,9,0} \n",
    "B={2,4,6,8}\n",
    "B.issubset(A)\n"
   ]
  },
  {
   "cell_type": "code",
   "execution_count": 6,
   "metadata": {},
   "outputs": [
    {
     "data": {
      "text/plain": [
       "True"
      ]
     },
     "execution_count": 6,
     "metadata": {},
     "output_type": "execute_result"
    }
   ],
   "source": [
    "A.issuperset(B)\n"
   ]
  },
  {
   "cell_type": "code",
   "execution_count": 7,
   "metadata": {},
   "outputs": [
    {
     "data": {
      "text/plain": [
       "False"
      ]
     },
     "execution_count": 7,
     "metadata": {},
     "output_type": "execute_result"
    }
   ],
   "source": [
    "A.issubset(B)"
   ]
  },
  {
   "cell_type": "code",
   "execution_count": 8,
   "metadata": {},
   "outputs": [
    {
     "name": "stdout",
     "output_type": "stream",
     "text": [
      "{0, 1, 2, 3, 4, 5, 6, 7, 8}\n",
      "{0, 1, 2, 3, 4, 5, 6, 7, 8}\n",
      "{0, 1, 2, 4, 5, 6, 7, 8}\n",
      "set()\n"
     ]
    }
   ],
   "source": [
    "A = {3,6,4,8,2,0,5,1,9,7}\n",
    "\n",
    "A.remove(9) # can use remove or discard\n",
    "print(A)\n",
    "\n",
    "A.discard(12) # only use discard\n",
    "print(A)\n",
    "\n",
    "A.remove(3) # can use remove or discard\n",
    "print(A)\n",
    "\n",
    "A.clear()\n",
    "print(A)"
   ]
  },
  {
   "cell_type": "code",
   "execution_count": 12,
   "metadata": {},
   "outputs": [
    {
     "name": "stdout",
     "output_type": "stream",
     "text": [
      "Python 3.7.6\n"
     ]
    }
   ],
   "source": [
    "!python --version"
   ]
  },
  {
   "cell_type": "code",
   "execution_count": 15,
   "metadata": {},
   "outputs": [
    {
     "name": "stdout",
     "output_type": "stream",
     "text": [
      "Union is: {0, 1, 2, 3, 4, 5, 6, 7, 8, 9}\n",
      "Intersection is: {8, 2, 4, 6}\n",
      "Difference is: {0, 1, 3, 5, 7, 9}\n",
      "Difference is: set()\n"
     ]
    }
   ],
   "source": [
    "A={1,2,3,4,5,6,7,8,9,0} \n",
    "B={2,4,6,8}\n",
    "\n",
    "print('Union is:', A |B)\n",
    "print('Intersection is:',A & B)\n",
    "print('Difference is:',A -B)\n",
    "print('Difference is:',B - A)\n"
   ]
  },
  {
   "cell_type": "code",
   "execution_count": null,
   "metadata": {},
   "outputs": [],
   "source": []
  }
 ],
 "metadata": {
  "kernelspec": {
   "display_name": "Python 3",
   "language": "python",
   "name": "python3"
  },
  "language_info": {
   "codemirror_mode": {
    "name": "ipython",
    "version": 3
   },
   "file_extension": ".py",
   "mimetype": "text/x-python",
   "name": "python",
   "nbconvert_exporter": "python",
   "pygments_lexer": "ipython3",
   "version": "3.7.6"
  }
 },
 "nbformat": 4,
 "nbformat_minor": 4
}
